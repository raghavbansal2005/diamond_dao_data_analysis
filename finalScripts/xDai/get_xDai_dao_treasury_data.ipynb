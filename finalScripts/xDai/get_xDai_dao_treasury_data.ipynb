{
 "cells": [
  {
   "cell_type": "code",
   "execution_count": 1,
   "id": "e175faba-5a7b-489b-897c-d675738c603b",
   "metadata": {},
   "outputs": [],
   "source": [
    "import json\n",
    "import os\n",
    "import time\n",
    "import requests"
   ]
  },
  {
   "cell_type": "code",
   "execution_count": 2,
   "id": "0c10c38f-6078-499b-bbce-6bc13d0298f0",
   "metadata": {},
   "outputs": [],
   "source": [
    "import psycopg2\n",
    "import os\n",
    "import json\n",
    "\n",
    "database_dict = {\n",
    "        \"database\": os.environ.get(\"POSTGRES_DB\"),\n",
    "        \"user\": os.environ.get(\"POSTGRES_USERNAME\"),\n",
    "        \"password\": os.environ.get(\"POSTGRES_PASSWORD\"),\n",
    "        \"host\": os.environ.get(\"POSTGRES_WRITER\"),\n",
    "        \"port\": os.environ.get(\"POSTGRES_PORT\"),\n",
    "    }\n",
    "engine = psycopg2.connect(**database_dict)\n",
    "cur = engine.cursor()\n",
    "\n",
    "def get_xDai_daos(cur, engine):\n",
    "    execute_string = f\"SELECT * FROM daohaus.dao\"\n",
    "    cur.execute(execute_string)\n",
    "    records = cur.fetchall()\n",
    "    js = [];\n",
    "    for x in records:\n",
    "        if(x[5] == 392):\n",
    "            curl = []\n",
    "            curl.append(x[0])\n",
    "            curl.append(x[1])\n",
    "            js.append(curl)\n",
    "    return js\n",
    "\n",
    "xDai_net_daos = get_xDai_daos(cur, engine)"
   ]
  },
  {
   "cell_type": "code",
   "execution_count": 5,
   "id": "e1528203-6222-4859-be61-2b9a1013e5b8",
   "metadata": {},
   "outputs": [],
   "source": [
    "md_of_all_dao_tokens_and_balances_xDai = {}\n",
    "all_tokens = set()"
   ]
  },
  {
   "cell_type": "code",
   "execution_count": null,
   "id": "1d1711ff-7720-400b-aaeb-6f7ce394ce93",
   "metadata": {},
   "outputs": [],
   "source": [
    "for datapoint in xDai_net_daos:\n",
    "    dao = str(datapoint[1])\n",
    "    response = requests.get(f\"https://blockscout.com/xdai/mainnet/api?module=account&action=tokenlist&address={dao}\")\n",
    "    test_data = response.json()\n",
    "    if(test_data[\"message\"] == \"OK\"):\n",
    "        list_tokens_and_data = []\n",
    "        for token in test_data[\"result\"]:\n",
    "            cd = {}\n",
    "            cd['contractAddress'] = token['contractAddress']\n",
    "            cd['balance'] = token['balance']\n",
    "            cd['divisor'] = token['decimals']\n",
    "            cd['name'] = token['name']\n",
    "            list_tokens_and_data.append(cd)\n",
    "            all_tokens.add(token['contractAddress'])\n",
    "        \n",
    "        md_of_all_dao_tokens_and_balances_xDai[str(dao)] = list_tokens_and_data\n",
    "    elif (test_data[\"message\"] == \"No tokens found\"):\n",
    "        md_of_all_dao_tokens_and_balances_xDai[str(dao)] = \"NO TOKENS\"\n",
    "    time.sleep(1)\n",
    "    print(dao, test_data[\"message\"])"
   ]
  },
  {
   "cell_type": "code",
   "execution_count": 10,
   "id": "5f4b4461-366a-4225-8096-dc18761539cd",
   "metadata": {},
   "outputs": [],
   "source": [
    "js_str = json.dumps(md_of_all_dao_tokens_and_balances_xDai)\n",
    "js_fin = json.loads(js_str)\n",
    "with open('./all_xDai_dao_treasury_with_token_balances.json', 'w') as f:\n",
    "        json.dump(js_fin, f)"
   ]
  },
  {
   "cell_type": "code",
   "execution_count": null,
   "id": "d6cdb520-5787-4533-bc31-13d610931de1",
   "metadata": {},
   "outputs": [],
   "source": []
  }
 ],
 "metadata": {
  "kernelspec": {
   "display_name": "Python 3 (ipykernel)",
   "language": "python",
   "name": "python3"
  },
  "language_info": {
   "codemirror_mode": {
    "name": "ipython",
    "version": 3
   },
   "file_extension": ".py",
   "mimetype": "text/x-python",
   "name": "python",
   "nbconvert_exporter": "python",
   "pygments_lexer": "ipython3",
   "version": "3.8.11"
  }
 },
 "nbformat": 4,
 "nbformat_minor": 5
}
