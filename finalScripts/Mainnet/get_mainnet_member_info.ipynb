{
 "cells": [
  {
   "cell_type": "code",
   "execution_count": null,
   "id": "3c6592c8-d2a1-4f79-ac8e-123c9177b170",
   "metadata": {},
   "outputs": [],
   "source": [
    "import json\n",
    "import requests\n",
    "import os\n",
    "import time"
   ]
  },
  {
   "cell_type": "code",
   "execution_count": null,
   "id": "0eba6981-7d53-4a34-bea4-c6917985d15c",
   "metadata": {},
   "outputs": [],
   "source": [
    "API_KEY = \"ASKMW73735RNXSZCUDNZPFU1W2URIWYXRE\""
   ]
  },
  {
   "cell_type": "code",
   "execution_count": null,
   "id": "6c0b0640-080d-4cb6-820a-d51edaf29fa6",
   "metadata": {},
   "outputs": [],
   "source": [
    "import psycopg2\n",
    "import os\n",
    "import json\n",
    "\n",
    "database_dict = {\n",
    "        \"database\": os.environ.get(\"POSTGRES_DB\"),\n",
    "        \"user\": os.environ.get(\"POSTGRES_USERNAME\"),\n",
    "        \"password\": os.environ.get(\"POSTGRES_PASSWORD\"),\n",
    "        \"host\": os.environ.get(\"POSTGRES_WRITER\"),\n",
    "        \"port\": os.environ.get(\"POSTGRES_PORT\"),\n",
    "    }\n",
    "engine = psycopg2.connect(**database_dict)\n",
    "cur = engine.cursor()\n",
    "\n",
    "def get_all_members(cur, engine):\n",
    "    execute_string = f\"SELECT * FROM daohaus.member\"\n",
    "    cur.execute(execute_string)\n",
    "    records = cur.fetchall()\n",
    "    js = [];\n",
    "    for x in records:\n",
    "        curl = []\n",
    "        curl.append(x[1])\n",
    "        curl.append(x[6])\n",
    "        js.append(curl)\n",
    "    return js\n",
    "\n",
    "def get_all_daos_chain(cur, engine):\n",
    "    execute_string = f\"SELECT * FROM daohaus.dao\"\n",
    "    cur.execute(execute_string)\n",
    "    records = cur.fetchall()\n",
    "    js = {};\n",
    "    for x in records:\n",
    "        js[x[0]] = x[5]\n",
    "    return js\n",
    "\n",
    "all_members = get_all_members(cur, engine)\n",
    "all_daos_chains = get_all_daos_chain(cur, engine)"
   ]
  },
  {
   "cell_type": "code",
   "execution_count": 19,
   "id": "2c63937c-ea63-46b2-be87-f688ca8b1f30",
   "metadata": {},
   "outputs": [],
   "source": [
    "addresses = []\n",
    "for member in all_members:\n",
    "    if(all_daos_chains[member[0]] == 1):\n",
    "        addresses.append(member[1])"
   ]
  },
  {
   "cell_type": "code",
   "execution_count": null,
   "id": "c4ad0f4f-7fe1-40cf-a773-8ade3334714a",
   "metadata": {},
   "outputs": [],
   "source": [
    "all_tokens = set()\n",
    "list_of_sets_tokens_in_each_address = []"
   ]
  },
  {
   "cell_type": "code",
   "execution_count": null,
   "id": "9983d9ef-1d28-414e-953d-168d985e2659",
   "metadata": {},
   "outputs": [],
   "source": [
    "counter = 0\n",
    "for address in addresses:\n",
    "    cur_add = str(address)\n",
    "    url = f\"https://api.etherscan.io/api?module=account&action=tokentx&address={address}&page=1&offset=100&startblock=0&endblock=27025780&sort=asc&apikey={API_KEY}\"\n",
    "    response = requests.get(url)\n",
    "    counter+=1\n",
    "    if(response.status_code != 204 and response.headers[\"content-type\"].strip().startswith(\"application/json\")):\n",
    "        test_data = response.json()\n",
    "    else:\n",
    "        break\n",
    "        \n",
    "        \n",
    "    cd = dict()\n",
    "    current_address_set_of_tokens = set()\n",
    "    for transaction in test_data['result']:\n",
    "        all_tokens.add(transaction['contractAddress'])\n",
    "        current_address_set_of_tokens.add(transaction['contractAddress'])\n",
    "        \n",
    "    cd[str(cur_add)] = current_address_set_of_tokens\n",
    "    list_of_sets_tokens_in_each_address.append(cd)\n",
    "    if counter % 20 == 0:\n",
    "        print(\"SLEPT\")\n",
    "        time.sleep(1)"
   ]
  },
  {
   "cell_type": "code",
   "execution_count": null,
   "id": "69ff7836-6d56-4322-b39a-326122139307",
   "metadata": {},
   "outputs": [],
   "source": [
    "all_tokens_with_spot_prices = {}\n",
    "for token in all_tokens:\n",
    "    all_tokens_with_spot_prices[str(token)] = 0\n",
    "    \n",
    "did_not_work_tokens = []"
   ]
  },
  {
   "cell_type": "code",
   "execution_count": null,
   "id": "3d1a734e-3977-44bf-8283-8f3112e5809c",
   "metadata": {},
   "outputs": [],
   "source": [
    "counter = 0\n",
    "for token in all_tokens:\n",
    "    fl = True\n",
    "    response = requests.get(f\"https://api.etherscan.io/api?module=token&action=tokeninfo&contractaddress={token}&apikey={API_KEY}\")\n",
    "    if not (response.status_code != 204 and response.headers[\"content-type\"].strip().startswith(\"application/json\")):\n",
    "        time.sleep(1)\n",
    "        response = requests.get(f\"https://api.etherscan.io/api?module=token&action=tokeninfo&contractaddress={token}&apikey={API_KEY}\")\n",
    "        if not (response.status_code != 204 and response.headers[\"content-type\"].strip().startswith(\"application/json\")):\n",
    "            time.sleep(1)\n",
    "            response = requests.get(f\"https://api.etherscan.io/api?module=token&action=tokeninfo&contractaddress={token}&apikey={API_KEY}\")\n",
    "            if not (response.status_code != 204 and response.headers[\"content-type\"].strip().startswith(\"application/json\")):\n",
    "                did_not_work_tokens.append(token)\n",
    "                fl = False\n",
    "            else:\n",
    "                test_data = response.json()\n",
    "        else:\n",
    "            test_data = response.json()\n",
    "    else:\n",
    "        test_data = response.json()\n",
    "        \n",
    "    if fl and test_data['message'] == \"OK\":\n",
    "        if(len(test_data['result'])> 0):\n",
    "            cd = {\"tokenPriceUSD\": test_data['result'][0]['tokenPriceUSD'], \"tokenName\" : test_data['result'][0]['tokenName'], \"divisor\":test_data['result'][0]['divisor'], \"symbol\" : test_data['result'][0]['symbol']}\n",
    "            print(test_data['result'][0]['tokenPriceUSD'],test_data['result'][0]['tokenName'],test_data['result'][0]['divisor'])\n",
    "            all_tokens_with_spot_prices[str(token)] = cd\n",
    "        else:\n",
    "            did_not_work_tokens.append(token)\n",
    "        \n",
    "    counter+=1\n",
    "    if(counter % 2 == 1):\n",
    "        time.sleep(1.5)"
   ]
  },
  {
   "cell_type": "code",
   "execution_count": null,
   "id": "9e07f25f-c50a-4dc6-84b7-6e40a1ae3e45",
   "metadata": {},
   "outputs": [],
   "source": [
    "js_str = json.dumps(all_tokens_with_spot_prices)\n",
    "js_fin = json.loads(js_str)\n",
    "with open('./../list_of_all_mainnet_tokens_with_spot_prices.json', 'w') as f:\n",
    "        json.dump(js_fin, f)"
   ]
  },
  {
   "cell_type": "code",
   "execution_count": null,
   "id": "7b45b837-f6e5-40e8-8acc-d4114774f28d",
   "metadata": {},
   "outputs": [],
   "source": [
    "md_of_member_data_with_balances_of_each_token = {}"
   ]
  },
  {
   "cell_type": "code",
   "execution_count": null,
   "id": "281220ab-494b-4f7d-adf4-7de05dbe1162",
   "metadata": {},
   "outputs": [],
   "source": [
    "counter = 0\n",
    "for member_dict in list_of_sets_tokens_in_each_address:\n",
    "    list_of_all_tokens_with_balances_for_current_member = []\n",
    "    for address in member_dict:\n",
    "        for token in member_dict[address]:\n",
    "            if(counter%20 == 0):\n",
    "                time.sleep(1)\n",
    "            cd = {}\n",
    "            response = requests.get(f\"https://api.etherscan.io/api?module=account&action=tokenbalance&contractaddress={token}&address={address}&tag=latest&apikey={API_KEY}\")\n",
    "            counter += 1\n",
    "            if not (response.status_code != 204 and response.headers[\"content-type\"].strip().startswith(\"application/json\")):\n",
    "                response = requests.get(f\"https://api.etherscan.io/api?module=account&action=tokenbalance&contractaddress={token}&address={address}&tag=latest&apikey={API_KEY}\")\n",
    "                counter+=1\n",
    "                test_data = response.json()\n",
    "            else:\n",
    "                test_data = response.json()\n",
    "            cd[\"contract_address\"] = token\n",
    "            cd[\"balance\"] = test_data['result']\n",
    "            print(address, token, test_data[\"result\"])\n",
    "            list_of_all_tokens_with_balances_for_current_member.append(cd)\n",
    "        \n",
    "        md_of_member_data_with_balances_of_each_token[address] = list_of_all_tokens_with_balances_for_current_member"
   ]
  },
  {
   "cell_type": "code",
   "execution_count": null,
   "id": "a5245571-d6d4-4a99-8e64-37fd647c40e3",
   "metadata": {},
   "outputs": [],
   "source": [
    "all_wallet_totals = {}\n",
    "final_data_set = {}"
   ]
  },
  {
   "cell_type": "code",
   "execution_count": null,
   "id": "fe6d61bf-44c6-4490-b9df-b6174d22d504",
   "metadata": {},
   "outputs": [],
   "source": [
    "for address in md_of_member_data_with_balances_of_each_token:\n",
    "    total = 0\n",
    "    for token in md_of_member_data_with_balances_of_each_token[address]:\n",
    "        if(len(md_of_member_data_with_balances_of_each_token[address]) > 0):\n",
    "            if type(all_tokens_with_spot_prices[token['contract_address']]) is dict:\n",
    "                price = float(all_tokens_with_spot_prices[token['contract_address']][\"tokenPriceUSD\"])\n",
    "                divisor = int(all_tokens_with_spot_prices[token['contract_address']][\"divisor\"])\n",
    "                balance = int(token['balance'])\n",
    "                divided_balance = balance/ (10**divisor)\n",
    "                value = divided_balance * price\n",
    "                total+=value\n",
    "    \n",
    "    \n",
    "    all_wallet_totals[address] = total"
   ]
  },
  {
   "cell_type": "code",
   "execution_count": null,
   "id": "cb580087-6a0c-468f-9f8d-c6c40eb738fd",
   "metadata": {},
   "outputs": [],
   "source": [
    "ml_of_all_addresses_and_token_info = []"
   ]
  },
  {
   "cell_type": "code",
   "execution_count": null,
   "id": "ccf5aeef-c218-4c7a-beb1-01a0145b9dff",
   "metadata": {},
   "outputs": [],
   "source": [
    "for address in md_of_member_data_with_balances_of_each_token:\n",
    "    address_final_dict = {}\n",
    "    address_final_dict[\"address\"] = address\n",
    "\n",
    "    enriched_list_of_tokens = []\n",
    "    for token in md_of_member_data_with_balances_of_each_token[address]:\n",
    "        if type(all_tokens_with_spot_prices[token['contract_address']]) is dict:\n",
    "            cd = {}\n",
    "            cd['contract_address'] = token['contract_address']\n",
    "            cd['token_name'] = all_tokens_with_spot_prices[token['contract_address']][\"tokenName\"]\n",
    "            cd['divisor'] = all_tokens_with_spot_prices[token['contract_address']][\"divisor\"]\n",
    "            cd['symbol'] = all_tokens_with_spot_prices[token['contract_address']][\"symbol\"]\n",
    "            cd['balance'] = token['balance']\n",
    "            enriched_list_of_tokens.append(cd)\n",
    "\n",
    "    address_final_dict[\"token_info\"] = enriched_list_of_tokens\n",
    "    address_final_dict[\"wallet_total\"] = all_wallet_totals[address]\n",
    "    ml_of_all_addresses_and_token_info.append(address_final_dict)"
   ]
  },
  {
   "cell_type": "code",
   "execution_count": null,
   "id": "38ca19df-2e39-437b-bd82-5956f9298d5d",
   "metadata": {},
   "outputs": [],
   "source": [
    "js_str = json.dumps(ml_of_all_addresses_and_token_info)\n",
    "js_fin = json.loads(js_str)\n",
    "with open('./all_mainnet_member_with_token_balances_and_wallet_totals.json', 'w') as f:\n",
    "        json.dump(js_fin, f)"
   ]
  }
 ],
 "metadata": {
  "kernelspec": {
   "display_name": "Python 3 (ipykernel)",
   "language": "python",
   "name": "python3"
  },
  "language_info": {
   "codemirror_mode": {
    "name": "ipython",
    "version": 3
   },
   "file_extension": ".py",
   "mimetype": "text/x-python",
   "name": "python",
   "nbconvert_exporter": "python",
   "pygments_lexer": "ipython3",
   "version": "3.8.11"
  }
 },
 "nbformat": 4,
 "nbformat_minor": 5
}
